{
 "cells": [
  {
   "cell_type": "code",
   "execution_count": null,
   "metadata": {},
   "outputs": [],
   "source": [
    "import numpy as np\n",
    "import pandas as pd\n",
    "import datetime as dt\n",
    "\n",
    "df3 = pd.read_csv('oneyear.csv',index_col=0)\n",
    "df4 = pd.read_csv('threemonth.csv',index_col=0)"
   ]
  },
  {
   "cell_type": "code",
   "execution_count": null,
   "metadata": {},
   "outputs": [],
   "source": [
    "df3.head()"
   ]
  },
  {
   "cell_type": "code",
   "execution_count": null,
   "metadata": {},
   "outputs": [],
   "source": [
    "df4.head()"
   ]
  },
  {
   "cell_type": "code",
   "execution_count": null,
   "metadata": {},
   "outputs": [],
   "source": [
    "# 一年里的交易日 \n",
    "tradeDay = df3['TRADEDATE'].unique()\n",
    "tradeDay.sort()\n",
    "len(tradeDay)"
   ]
  },
  {
   "cell_type": "code",
   "execution_count": null,
   "metadata": {},
   "outputs": [],
   "source": [
    "df4.groupby(['SECUCODE']).count()\n",
    "\n",
    "#过去3个月总共有58个交易日，数据少于20的就淘汰掉"
   ]
  },
  {
   "cell_type": "code",
   "execution_count": null,
   "metadata": {},
   "outputs": [],
   "source": [
    "Ret = []\n",
    "for index,row in df4.iterrows():\n",
    "    day = row['TRADEDATE']\n",
    "    stock = row['SECUCODE']\n",
    "    \n",
    "    filter = (df3['TRADEDATE'] >= day - dt.timedelta(6*30)) & (df3['SECUCODE'] == stock)\n",
    "    pre_price = list(df3[filter]['S_DQ_ADJCLOSE'])[0] \n",
    "    current_price = row['S_DQ_ADJCLOSE']\n",
    "    ret = (current_price - pre_price) / pre_price\n",
    "    Ret.append(ret)"
   ]
  },
  {
   "cell_type": "code",
   "execution_count": null,
   "metadata": {},
   "outputs": [],
   "source": []
  },
  {
   "cell_type": "code",
   "execution_count": null,
   "metadata": {},
   "outputs": [],
   "source": []
  }
 ],
 "metadata": {
  "kernelspec": {
   "display_name": "Python 3",
   "language": "python",
   "name": "python3"
  },
  "language_info": {
   "codemirror_mode": {
    "name": "ipython",
    "version": 3
   },
   "file_extension": ".py",
   "mimetype": "text/x-python",
   "name": "python",
   "nbconvert_exporter": "python",
   "pygments_lexer": "ipython3",
   "version": "3.7.3"
  }
 },
 "nbformat": 4,
 "nbformat_minor": 2
}
